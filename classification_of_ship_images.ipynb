{
  "metadata": {
    "kernelspec": {
      "display_name": "Python 3",
      "language": "python",
      "name": "python3"
    },
    "language_info": {
      "name": "python",
      "version": "3.6.4",
      "mimetype": "text/x-python",
      "codemirror_mode": {
        "name": "ipython",
        "version": 3
      },
      "pygments_lexer": "ipython3",
      "nbconvert_exporter": "python",
      "file_extension": ".py"
    },
    "colab": {
      "provenance": [],
      "include_colab_link": true
    }
  },
  "nbformat_minor": 0,
  "nbformat": 4,
  "cells": [
    {
      "cell_type": "markdown",
      "metadata": {
        "id": "view-in-github",
        "colab_type": "text"
      },
      "source": [
        "<a href=\"https://colab.research.google.com/github/camilus77/Maritime-Vessel-Detection/blob/main/classification_of_ship_images.ipynb\" target=\"_parent\"><img src=\"https://colab.research.google.com/assets/colab-badge.svg\" alt=\"Open In Colab\"/></a>"
      ]
    },
    {
      "cell_type": "markdown",
      "source": [
        "# Computer Vision Hackathon\n",
        "\n",
        "## Problem Statement\n",
        "\n",
        "Ship or vessel detection has a wide range of applications, in the areas of maritime safety (Rosnani et al., 2022),  fisheries management, marine pollution, defence and maritime security, protection from piracy, illegal migration, etc (Agastia, 2021; Buegar et al., 2019).\n",
        "\n",
        "Keeping this in mind, a Governmental Maritime and Coastguard Agency is planning to deploy a computer vision based automated system to identify ship type only from the images taken by the survey boats. You have been hired as a consultant to build an efficient model for this project.\n",
        "\n",
        "#### Dataset Description\n",
        "There are 6252 images in train and 2680 images in test data. The categories of ships and their corresponding codes in the dataset are as follows -\n",
        "\n",
        "There are 5 classes of ships to be detected which are as follows: <br>\n",
        "\n",
        "1: Cargo <br>\n",
        "2: Military <br>\n",
        "3: Carrier <br>\n",
        "4: Cruise <br>\n",
        "5: Tankers\n",
        "\n",
        "Variable\t| Definition\n",
        "--- | ---\n",
        "image\t| Name of the image in the dataset (ID column)\n",
        "category |\tShip category code\n",
        "<br>\n",
        "#### Evaluation Metric\n",
        "The Evaluation metric for this competition is weighted F1 Score.\n",
        "\n",
        "#### Misc Rules\n",
        "- Use of external dataset is not allowed, however, transfer learning can be used to build the solution"
      ],
      "metadata": {
        "id": "n7-HZ4fLWptc"
      }
    },
    {
      "cell_type": "markdown",
      "source": [
        "# Libraries\n"
      ],
      "metadata": {
        "id": "0VTWAGESGXQ2"
      }
    },
    {
      "cell_type": "code",
      "source": [
        "import os\n",
        "\n",
        "import numpy as np\n",
        "import pandas as pd\n",
        "from numpy.random import seed\n",
        "seed(2019)\n",
        "\n",
        "\n",
        "#visualization\n",
        "%matplotlib inline\n",
        "import matplotlib.pyplot as plt\n",
        "import seaborn as sns\n",
        "from tqdm import tqdm\n",
        "import gc\n",
        "import cv2\n",
        "\n",
        "#sklearn and machine learning\n",
        "from sklearn.model_selection import StratifiedKFold, train_test_split\n",
        "from sklearn.metrics import f1_score, confusion_matrix\n",
        "\n",
        "import tensorflow\n",
        "from tensorflow.keras.utils import load_img, img_to_array, array_to_img\n",
        "from keras import callbacks\n",
        "from keras.callbacks import ModelCheckpoint, LearningRateScheduler\n",
        "from tensorflow.keras.optimizers import Adam\n",
        "from keras.models import load_model\n",
        "tensorflow.random.set_seed(2019) \n",
        "#avoid ugly warnings\n",
        "import warnings\n",
        "warnings.filterwarnings('ignore')\n",
        "\n",
        "#mounr drive for colab\n",
        "from google.colab import drive\n",
        "drive.mount('/content/drive')\n",
        "\n"
      ],
      "metadata": {
        "_uuid": "8f2839f25d086af736a60e9eeb907d3b93b6e0e5",
        "_cell_guid": "b1076dfc-b9ad-4769-8c92-a6c4dae69d19",
        "trusted": true,
        "id": "VsEQONjCWptr"
      },
      "execution_count": 3,
      "outputs": []
    },
    {
      "cell_type": "markdown",
      "source": [
        "# Exploratory Data Analysis"
      ],
      "metadata": {
        "id": "CLjgG-6SWptv"
      }
    },
    {
      "cell_type": "code",
      "source": [
        "# define the path for loading .jpg images\n",
        "path = \"/content/drive/MyDrive/ship_classifer_Dataset train/images\"\n",
        "\n",
        "loc = '/content/drive/MyDrive/ship_classifer_Dataset train/train.csv'\n",
        "#train_files = pd.read_html(url, dtype={'image': 'object', 'category': 'int8'})\n",
        "\n",
        "train_files = pd.read_csv(loc)#, dtype={'image': 'object', 'category': 'int8'})\n",
        "                       \n",
        "test_files = pd.read_csv('/content/drive/MyDrive/ship_classifer_Dataset train/test_ApKoW4T.csv')"
      ],
      "metadata": {
        "trusted": true,
        "id": "CBIHJbx7Wptx"
      },
      "execution_count": 15,
      "outputs": []
    },
    {
      "cell_type": "code",
      "source": [
        "#lets have a peek at the training and testing dataset\n",
        "print(train_files.head())\n",
        "print(test_files.head())"
      ],
      "metadata": {
        "trusted": true,
        "id": "3lqqMNk2Wpty",
        "colab": {
          "base_uri": "https://localhost:8080/"
        },
        "outputId": "efe0b4e9-4a07-4570-87b9-2b932bc050b9"
      },
      "execution_count": 7,
      "outputs": [
        {
          "output_type": "stream",
          "name": "stdout",
          "text": [
            "         image  category\n",
            "0  2823080.jpg         1\n",
            "1  2870024.jpg         1\n",
            "2  2662125.jpg         2\n",
            "3  2900420.jpg         3\n",
            "4  2804883.jpg         2\n",
            "         image\n",
            "0  1007700.jpg\n",
            "1  1011369.jpg\n",
            "2  1051155.jpg\n",
            "3  1062001.jpg\n",
            "4  1069397.jpg\n"
          ]
        }
      ]
    },
    {
      "cell_type": "code",
      "source": [],
      "metadata": {
        "trusted": true,
        "id": "fNfkwn4CWpt0"
      },
      "execution_count": null,
      "outputs": []
    },
    {
      "cell_type": "markdown",
      "source": [
        "No missing values."
      ],
      "metadata": {
        "id": "U1TtcJDvWpt5"
      }
    },
    {
      "cell_type": "markdown",
      "source": [
        "Now let us create an encoding dictionary for our ship\n"
      ],
      "metadata": {
        "id": "DrzkfijseB-A"
      }
    },
    {
      "cell_type": "code",
      "source": [
        "# encoding dictionary \n",
        "ship = {'Cargo': 1, \n",
        "        'Military': 2, \n",
        "        'Carrier': 3, \n",
        "        'Cruise': 4, \n",
        "        'Tankers': 5}\n",
        "\n",
        "# let us now reverse the ship type dictionary and create our test labels (to aid interpretability)\n",
        "ship = dict([[v,k] for k,v in ship.items()])\n",
        "\n",
        "train_files['ship'] = train_files['category'].map(ship).astype('category')\n",
        "labels = list(train_files['ship'].unique())"
      ],
      "metadata": {
        "trusted": true,
        "id": "L8MSiR3lWpt8"
      },
      "execution_count": 8,
      "outputs": []
    },
    {
      "cell_type": "markdown",
      "source": [
        "Lets get visual knowledge of the number of ships in our dataset"
      ],
      "metadata": {
        "id": "dB0vlwElfUYw"
      }
    },
    {
      "cell_type": "code",
      "source": [
        "plt.title('Ship Type Count')\n",
        "sns.countplot(y=train_files['ship'].values)\n",
        "plt.show()\n",
        "gc.collect()"
      ],
      "metadata": {
        "trusted": true,
        "id": "0wmq6JQKWpuC",
        "colab": {
          "base_uri": "https://localhost:8080/",
          "height": 312
        },
        "outputId": "a7b308b5-c6fb-474e-de09-6a17e8ce9252"
      },
      "execution_count": 9,
      "outputs": [
        {
          "output_type": "display_data",
          "data": {
            "text/plain": [
              "<Figure size 432x288 with 1 Axes>"
            ],
            "image/png": "[encoded data removed]"
          },
          "metadata": {
            "needs_background": "light"
          }
        },
        {
          "output_type": "execute_result",
          "data": {
            "text/plain": [
              "2638"
            ]
          },
          "metadata": {},
          "execution_count": 9
        }
      ]
    },
    {
      "cell_type": "markdown",
      "source": [
        "We now check for inbalance in our dataset. Remember that a skewed dataset produces biased results"
      ],
      "metadata": {
        "id": "JG_dFiG2f5x0"
      }
    },
    {
      "cell_type": "code",
      "source": [
        "#Unnormalized\n",
        "train_files['ship'].value_counts(normalize=False)"
      ],
      "metadata": {
        "trusted": true,
        "id": "peMA9XrAWpuE",
        "colab": {
          "base_uri": "https://localhost:8080/"
        },
        "outputId": "2dcda2d2-0e25-42a7-b3ec-02ac919b7ce4"
      },
      "execution_count": 10,
      "outputs": [
        {
          "output_type": "execute_result",
          "data": {
            "text/plain": [
              "Cargo       2120\n",
              "Tankers     1217\n",
              "Military    1167\n",
              "Carrier      916\n",
              "Cruise       832\n",
              "Name: ship, dtype: int64"
            ]
          },
          "metadata": {},
          "execution_count": 10
        }
      ]
    },
    {
      "cell_type": "code",
      "source": [
        "#normalized\n",
        "train_files['ship'].value_counts(normalize=True)"
      ],
      "metadata": {
        "trusted": true,
        "id": "NycCFtOcWpuG",
        "colab": {
          "base_uri": "https://localhost:8080/"
        },
        "outputId": "7633409b-17b3-4f53-ba87-ae825518d5a8"
      },
      "execution_count": 11,
      "outputs": [
        {
          "output_type": "execute_result",
          "data": {
            "text/plain": [
              "Cargo       0.339091\n",
              "Tankers     0.194658\n",
              "Military    0.186660\n",
              "Carrier     0.146513\n",
              "Cruise      0.133077\n",
              "Name: ship, dtype: float64"
            ]
          },
          "metadata": {},
          "execution_count": 11
        }
      ]
    },
    {
      "cell_type": "markdown",
      "source": [
        "Since there are class imbalances in training set, we will need to display a confusion matrix visualize to where the neural network classifier is having trouble. We will also stratify train_test_split in order to maintain the class distributions in both train and test."
      ],
      "metadata": {
        "id": "vwpIXfWMWpuL"
      }
    },
    {
      "cell_type": "markdown",
      "source": [
        "# Encode Train Labels"
      ],
      "metadata": {
        "id": "V8kXXvMgWpuN"
      }
    },
    {
      "cell_type": "code",
      "source": [
        "from sklearn.preprocessing import OneHotEncoder\n",
        "ohe = OneHotEncoder(dtype='int8', sparse=False)\n",
        "y_train = ohe.fit_transform(train_files['category'].values.reshape(-1,1))"
      ],
      "metadata": {
        "trusted": true,
        "id": "e8InIi-hWpuO"
      },
      "execution_count": 12,
      "outputs": []
    },
    {
      "cell_type": "markdown",
      "source": [
        "# Load Train/Test Files"
      ],
      "metadata": {
        "id": "K--kSMFeWpua"
      }
    },
    {
      "cell_type": "markdown",
      "source": [
        "Considering that most pre-trained models normaly have specific input dimensions, it is necessary to set target size such that it matches the input shape of the pre-trained model. "
      ],
      "metadata": {
        "id": "BfPyq_5WlhCK"
      }
    },
    {
      "cell_type": "code",
      "source": [
        "\n",
        "def load(what='train', target_size=(224,224)):\n",
        "    array = []\n",
        "    if what =='train':\n",
        "        for file in tqdm(train_files['image'].values):\n",
        "            img = load_img(os.path.join(path, file), target_size=target_size)\n",
        "            img = img_to_array(img)/255. # normalize image tensor\n",
        "            array.append(img)\n",
        "    elif what =='test':\n",
        "        for file in tqdm(test_files['image'].values):\n",
        "            img = load_img(os.path.join(path, file), target_size=target_size)\n",
        "            img = img_to_array(img)/255. # normalize image tensor\n",
        "            array.append(img)\n",
        "    gc.collect()\n",
        "    return np.asarray(array)"
      ],
      "metadata": {
        "trusted": true,
        "id": "eCKvY7ewWpuc"
      },
      "execution_count": 13,
      "outputs": []
    },
    {
      "cell_type": "markdown",
      "source": [
        "Now that that has been done, let us load the train and test data"
      ],
      "metadata": {
        "id": "nbxeCYZll6R-"
      }
    },
    {
      "cell_type": "code",
      "source": [
        "# Load Train and Test\n",
        "X_train = load()\n",
        "test = load('test')\n",
        "\n",
        "print(f'train shape: {X_train.shape}\\n test shape: {test.shape}')\n",
        "print(f'test shape: {test.shape}')"
      ],
      "metadata": {
        "trusted": true,
        "id": "uOeo-rsqWpud",
        "colab": {
          "base_uri": "https://localhost:8080/",
          "height": 432
        },
        "outputId": "e82f165d-84b7-45c6-cbdd-afe9e1e23a1f"
      },
      "execution_count": 16,
      "outputs": [
        {
          "output_type": "stream",
          "name": "stderr",
          "text": [
            "  0%|          | 3/6252 [00:00<23:22,  4.46it/s]\n"
          ]
        },
        {
          "output_type": "error",
          "ename": "FileNotFoundError",
          "evalue": "ignored",
          "traceback": [
            "\u001b[0;31m---------------------------------------------------------------------------\u001b[0m",
            "\u001b[0;31mFileNotFoundError\u001b[0m                         Traceback (most recent call last)",
            "\u001b[0;32m<ipython-input-16-7eb8722db5a9>\u001b[0m in \u001b[0;36m<module>\u001b[0;34m\u001b[0m\n\u001b[1;32m      1\u001b[0m \u001b[0;31m# Load Train and Test\u001b[0m\u001b[0;34m\u001b[0m\u001b[0;34m\u001b[0m\u001b[0;34m\u001b[0m\u001b[0m\n\u001b[0;32m----> 2\u001b[0;31m \u001b[0mX_train\u001b[0m \u001b[0;34m=\u001b[0m \u001b[0mload\u001b[0m\u001b[0;34m(\u001b[0m\u001b[0;34m)\u001b[0m\u001b[0;34m\u001b[0m\u001b[0;34m\u001b[0m\u001b[0m\n\u001b[0m\u001b[1;32m      3\u001b[0m \u001b[0mtest\u001b[0m \u001b[0;34m=\u001b[0m \u001b[0mload\u001b[0m\u001b[0;34m(\u001b[0m\u001b[0;34m'test'\u001b[0m\u001b[0;34m)\u001b[0m\u001b[0;34m\u001b[0m\u001b[0;34m\u001b[0m\u001b[0m\n\u001b[1;32m      4\u001b[0m \u001b[0;34m\u001b[0m\u001b[0m\n\u001b[1;32m      5\u001b[0m \u001b[0mprint\u001b[0m\u001b[0;34m(\u001b[0m\u001b[0;34mf'train shape: {X_train.shape}\\n test shape: {test.shape}'\u001b[0m\u001b[0;34m)\u001b[0m\u001b[0;34m\u001b[0m\u001b[0;34m\u001b[0m\u001b[0m\n",
            "\u001b[0;32m<ipython-input-13-a732beabdd32>\u001b[0m in \u001b[0;36mload\u001b[0;34m(what, target_size)\u001b[0m\n\u001b[1;32m      3\u001b[0m     \u001b[0;32mif\u001b[0m \u001b[0mwhat\u001b[0m \u001b[0;34m==\u001b[0m\u001b[0;34m'train'\u001b[0m\u001b[0;34m:\u001b[0m\u001b[0;34m\u001b[0m\u001b[0;34m\u001b[0m\u001b[0m\n\u001b[1;32m      4\u001b[0m         \u001b[0;32mfor\u001b[0m \u001b[0mfile\u001b[0m \u001b[0;32min\u001b[0m \u001b[0mtqdm\u001b[0m\u001b[0;34m(\u001b[0m\u001b[0mtrain_files\u001b[0m\u001b[0;34m[\u001b[0m\u001b[0;34m'image'\u001b[0m\u001b[0;34m]\u001b[0m\u001b[0;34m.\u001b[0m\u001b[0mvalues\u001b[0m\u001b[0;34m)\u001b[0m\u001b[0;34m:\u001b[0m\u001b[0;34m\u001b[0m\u001b[0;34m\u001b[0m\u001b[0m\n\u001b[0;32m----> 5\u001b[0;31m             \u001b[0mimg\u001b[0m \u001b[0;34m=\u001b[0m \u001b[0mload_img\u001b[0m\u001b[0;34m(\u001b[0m\u001b[0mos\u001b[0m\u001b[0;34m.\u001b[0m\u001b[0mpath\u001b[0m\u001b[0;34m.\u001b[0m\u001b[0mjoin\u001b[0m\u001b[0;34m(\u001b[0m\u001b[0mpath\u001b[0m\u001b[0;34m,\u001b[0m \u001b[0mfile\u001b[0m\u001b[0;34m)\u001b[0m\u001b[0;34m,\u001b[0m \u001b[0mtarget_size\u001b[0m\u001b[0;34m=\u001b[0m\u001b[0mtarget_size\u001b[0m\u001b[0;34m)\u001b[0m\u001b[0;34m\u001b[0m\u001b[0;34m\u001b[0m\u001b[0m\n\u001b[0m\u001b[1;32m      6\u001b[0m             \u001b[0mimg\u001b[0m \u001b[0;34m=\u001b[0m \u001b[0mimg_to_array\u001b[0m\u001b[0;34m(\u001b[0m\u001b[0mimg\u001b[0m\u001b[0;34m)\u001b[0m\u001b[0;34m/\u001b[0m\u001b[0;36m255.\u001b[0m \u001b[0;31m# normalize image tensor\u001b[0m\u001b[0;34m\u001b[0m\u001b[0;34m\u001b[0m\u001b[0m\n\u001b[1;32m      7\u001b[0m             \u001b[0marray\u001b[0m\u001b[0;34m.\u001b[0m\u001b[0mappend\u001b[0m\u001b[0;34m(\u001b[0m\u001b[0mimg\u001b[0m\u001b[0;34m)\u001b[0m\u001b[0;34m\u001b[0m\u001b[0;34m\u001b[0m\u001b[0m\n",
            "\u001b[0;32m/usr/local/lib/python3.8/dist-packages/keras/utils/image_utils.py\u001b[0m in \u001b[0;36mload_img\u001b[0;34m(path, grayscale, color_mode, target_size, interpolation, keep_aspect_ratio)\u001b[0m\n\u001b[1;32m    420\u001b[0m         \u001b[0;32mif\u001b[0m \u001b[0misinstance\u001b[0m\u001b[0;34m(\u001b[0m\u001b[0mpath\u001b[0m\u001b[0;34m,\u001b[0m \u001b[0mpathlib\u001b[0m\u001b[0;34m.\u001b[0m\u001b[0mPath\u001b[0m\u001b[0;34m)\u001b[0m\u001b[0;34m:\u001b[0m\u001b[0;34m\u001b[0m\u001b[0;34m\u001b[0m\u001b[0m\n\u001b[1;32m    421\u001b[0m             \u001b[0mpath\u001b[0m \u001b[0;34m=\u001b[0m \u001b[0mstr\u001b[0m\u001b[0;34m(\u001b[0m\u001b[0mpath\u001b[0m\u001b[0;34m.\u001b[0m\u001b[0mresolve\u001b[0m\u001b[0;34m(\u001b[0m\u001b[0;34m)\u001b[0m\u001b[0;34m)\u001b[0m\u001b[0;34m\u001b[0m\u001b[0;34m\u001b[0m\u001b[0m\n\u001b[0;32m--> 422\u001b[0;31m         \u001b[0;32mwith\u001b[0m \u001b[0mopen\u001b[0m\u001b[0;34m(\u001b[0m\u001b[0mpath\u001b[0m\u001b[0;34m,\u001b[0m \u001b[0;34m\"rb\"\u001b[0m\u001b[0;34m)\u001b[0m \u001b[0;32mas\u001b[0m \u001b[0mf\u001b[0m\u001b[0;34m:\u001b[0m\u001b[0;34m\u001b[0m\u001b[0;34m\u001b[0m\u001b[0m\n\u001b[0m\u001b[1;32m    423\u001b[0m             \u001b[0mimg\u001b[0m \u001b[0;34m=\u001b[0m \u001b[0mpil_image\u001b[0m\u001b[0;34m.\u001b[0m\u001b[0mopen\u001b[0m\u001b[0;34m(\u001b[0m\u001b[0mio\u001b[0m\u001b[0;34m.\u001b[0m\u001b[0mBytesIO\u001b[0m\u001b[0;34m(\u001b[0m\u001b[0mf\u001b[0m\u001b[0;34m.\u001b[0m\u001b[0mread\u001b[0m\u001b[0;34m(\u001b[0m\u001b[0;34m)\u001b[0m\u001b[0;34m)\u001b[0m\u001b[0;34m)\u001b[0m\u001b[0;34m\u001b[0m\u001b[0;34m\u001b[0m\u001b[0m\n\u001b[1;32m    424\u001b[0m     \u001b[0;32melse\u001b[0m\u001b[0;34m:\u001b[0m\u001b[0;34m\u001b[0m\u001b[0;34m\u001b[0m\u001b[0m\n",
            "\u001b[0;31mFileNotFoundError\u001b[0m: [Errno 2] No such file or directory: '/content/drive/MyDrive/ship_classifer_Dataset train/images/2900420.jpg'"
          ]
        }
      ]
    },
    {
      "cell_type": "markdown",
      "source": [
        "# View Some Train Images"
      ],
      "metadata": {
        "id": "68DoR3qpWpue"
      }
    },
    {
      "cell_type": "code",
      "source": [
        "# visualize the top 28 train images\n",
        "plt.figure(figsize=(12,24))\n",
        "\n",
        "for i in range(1,29):\n",
        "    plt.subplot(7,4,i)\n",
        "    plt.title(f'{train_files[\"ship\"].values[i]}')\n",
        "    plt.imshow(X_train[i])\n",
        "    plt.axis('off')\n",
        "plt.show()\n",
        "gc.collect()"
      ],
      "metadata": {
        "trusted": true,
        "id": "fm9Rxz1MWpuf"
      },
      "execution_count": null,
      "outputs": []
    },
    {
      "cell_type": "markdown",
      "source": [
        "# View Some Test Images"
      ],
      "metadata": {
        "id": "trU1IGmAWpug"
      }
    },
    {
      "cell_type": "code",
      "source": [
        "# visualize the top 28 test images\n",
        "plt.figure(figsize=(12,24))\n",
        "\n",
        "for i in range(1,29):\n",
        "    plt.subplot(7,4,i)\n",
        "    plt.imshow(test[i])\n",
        "    plt.axis('off')\n",
        "plt.show()\n",
        "del test # free up space for training\n",
        "gc.collect()"
      ],
      "metadata": {
        "trusted": true,
        "id": "Yxu4mwh-Wpug"
      },
      "execution_count": null,
      "outputs": []
    },
    {
      "cell_type": "markdown",
      "source": [
        "Images in color and black and white are combined. Old pictures have been used in some of the photographs. Some pictures show smoke or steam rising from smokestacks. Multiple ships can be seen in certain pictures. Some have clouds, while others have a variety of background scenery. Some of them include a lengthwise display, while others feature a ship's front end. There are some low-contrast photos.\n",
        "We must undertake data augmentation to produce a more robust training set for our neural network in order to solve some of these issues, such as grayscale, rotation, noise, etc. This might improve generalization to the testing dataset and, to some extent, prevent the Neural network from overfitting.\n",
        "\n",
        "It is impossible to know how many edge cases there are by just looking at the top 28 ship photos from train and test, but at first sight, train and test seem to be rather uniform. In other words, unless you overfit the model, validation results should correspond to test scores."
      ],
      "metadata": {
        "id": "A69s2zizWpuh"
      }
    },
    {
      "cell_type": "markdown",
      "source": [
        "For each epoch, need to guage model performance using the f1 score. We will create a custom call back fuction to the effect\n",
        "We need to create a custom callbacks function that calculates f1 score after every epoch to gauge model performance."
      ],
      "metadata": {
        "id": "hCMYDR3rWpui"
      }
    },
    {
      "cell_type": "code",
      "source": [
        "class printf1(callbacks.Callback):\n",
        "    def __init__(self, X_train, y_train):\n",
        "        super(printf1, self).__init__()\n",
        "        self.bestf1 = 0\n",
        "        self.X_train = X_train\n",
        "        self.y_train = y_train\n",
        "        \n",
        "    def on_epoch_end(self, epoch, logs={}):\n",
        "        pred = np.argmax(self.model.predict(np.array(self.X_train)), axis=1)\n",
        "        f1 = f1_score(np.argmax(self.y_train, axis=1), pred, average='weighted')\n",
        "        print(\"Train F1 Score: {:.4f}\".format(f1))\n",
        "        pred = np.argmax(self.model.predict(self.validation_data[0]), axis=1)\n",
        "        f1 = f1_score(np.argmax(self.validation_data[1], axis=1), pred, average='weighted')\n",
        "        print(\"Valid F1 Score: {:.4f}\".format(f1))\n",
        "        return"
      ],
      "metadata": {
        "trusted": true,
        "id": "AxyjWEskWpui"
      },
      "execution_count": 17,
      "outputs": []
    },
    {
      "cell_type": "code",
      "source": [
        "# to plot training/validation history object\n",
        "def plt_dynamic(x, vy, ty, ax, colors=['b'], title=''):\n",
        "    ax.plot(x, vy, 'b', label='Validation Loss')\n",
        "    ax.plot(x, ty, 'r', label='Train Loss')\n",
        "    plt.legend()\n",
        "    plt.grid()\n",
        "    plt.title(title)\n",
        "    fig.canvas.draw()\n",
        "    plt.show()\n",
        "    gc.collect()"
      ],
      "metadata": {
        "trusted": true,
        "id": "LW6otaF_Wpuj"
      },
      "execution_count": null,
      "outputs": []
    },
    {
      "cell_type": "code",
      "source": [
        "def plot_confusion_matrix(y_true, y_pred, classes,\n",
        "                          normalize=False,\n",
        "                          title=None,\n",
        "                          cmap=plt.cm.Greens):\n",
        "    \"\"\"\n",
        "    This function prints and plots the confusion matrix.\n",
        "    Normalization can be applied by setting `normalize=True`.\n",
        "    \"\"\"\n",
        "    if not title:\n",
        "        if normalize:\n",
        "            title = 'Normalized confusion matrix'\n",
        "        else:\n",
        "            title = 'Confusion matrix, without normalization'\n",
        "\n",
        "    # Compute confusion matrix\n",
        "    cm = confusion_matrix(y_true, y_pred)\n",
        "    if normalize:\n",
        "        cm = cm.astype('float') / cm.sum(axis=1)[:, np.newaxis]\n",
        "\n",
        "    fig, ax = plt.subplots(figsize=(6,6))\n",
        "    im = ax.imshow(cm, interpolation='nearest', cmap=cmap)\n",
        "    ax.figure.colorbar(im, ax=ax)\n",
        "    # We want to show all ticks...\n",
        "    ax.set(xticks=np.arange(cm.shape[1]),\n",
        "           yticks=np.arange(cm.shape[0]),\n",
        "           # ... and label them with the respective list entries\n",
        "           xticklabels=classes, yticklabels=classes,\n",
        "           title=title,\n",
        "           ylabel='True label',\n",
        "           xlabel='Predicted label')\n",
        "\n",
        "    # Rotate the tick labels and set their alignment.\n",
        "    plt.setp(ax.get_xticklabels(), rotation=0)\n",
        "\n",
        "    # Loop over data dimensions and create text annotations.\n",
        "    fmt = '.2f' if normalize else 'd'\n",
        "    thresh = cm.max() / 2.\n",
        "    for i in range(cm.shape[0]):\n",
        "        for j in range(cm.shape[1]):\n",
        "            ax.text(j, i, format(cm[i, j], fmt),\n",
        "                    ha=\"center\", va=\"center\",\n",
        "                    color=\"white\" if cm[i, j] > thresh else \"black\")\n",
        "    fig.tight_layout()\n",
        "    plt.show()\n",
        "    gc.collect()"
      ],
      "metadata": {
        "trusted": true,
        "id": "Xi3uIqu9Wpuj"
      },
      "execution_count": null,
      "outputs": []
    },
    {
      "cell_type": "markdown",
      "source": [
        "# Load Pre-trained network and weights (Xception)\n",
        "Utilize Keras pre-trained model and weights for faster and more accurate image classification models. Weights were loaded from training on Imagenet dataset."
      ],
      "metadata": {
        "id": "Mz_VFPbbWpuk"
      }
    },
    {
      "cell_type": "code",
      "source": [
        "# make sure internet is enabled in the settings tab to the right\n",
        "# do not include the last Fully Connected(FC) layer\n",
        "from keras.applications.xception import Xception\n",
        "model = Xception(include_top=False, input_shape=(224,224,3))"
      ],
      "metadata": {
        "trusted": true,
        "id": "FI-EEkXEWpul"
      },
      "execution_count": null,
      "outputs": []
    },
    {
      "cell_type": "code",
      "source": [
        "from keras.models import Model\n",
        "from keras.layers import Dense, GlobalAveragePooling2D\n",
        "\n",
        "x = GlobalAveragePooling2D()(model.output)\n",
        "#x = Dense(6, activation='relu')(x)\n",
        "output = Dense(5, activation='softmax')(x)\n",
        "\n",
        "# define new model\n",
        "model = Model(model.inputs, output)\n",
        "model.save('model.hdf5')\n",
        "#model.summary()"
      ],
      "metadata": {
        "trusted": true,
        "id": "zo8j_WTtWpum"
      },
      "execution_count": null,
      "outputs": []
    },
    {
      "cell_type": "code",
      "source": [
        "# visualize the Xception model architecture\n",
        "from IPython.display import SVG\n",
        "from keras.utils.vis_utils import model_to_dot\n",
        "SVG(model_to_dot(model).create(prog='dot', format='svg'))"
      ],
      "metadata": {
        "trusted": true,
        "id": "zkoLzcRBWpun"
      },
      "execution_count": null,
      "outputs": []
    },
    {
      "cell_type": "markdown",
      "source": [
        "# Fine-tune Entire Pre-trained Xception Model"
      ],
      "metadata": {
        "id": "0xhleuauWpuo"
      }
    },
    {
      "cell_type": "code",
      "source": [
        "X_train, X_test, y_train, y_test = train_test_split(X_train, y_train, \n",
        "                                                    stratify=y_train,\n",
        "                                                    random_state=2019,\n",
        "                                                    test_size=0.2)"
      ],
      "metadata": {
        "trusted": true,
        "id": "uRz-rKeFWpup"
      },
      "execution_count": null,
      "outputs": []
    },
    {
      "cell_type": "code",
      "source": [
        "print(X_train.shape)\n",
        "print(X_test.shape)\n",
        "print(y_train.shape)\n",
        "print(y_test.shape)\n",
        "gc.collect()"
      ],
      "metadata": {
        "trusted": true,
        "id": "_EPIxp3_Wpup"
      },
      "execution_count": null,
      "outputs": []
    },
    {
      "cell_type": "markdown",
      "source": [
        "It was essential to alter (augment) the current image collection using a data generator due to paucity of data given. Care must however be taken as data augmentation could harm or improve model performance. Consideration of data augmentation must be done case-by-case. This means that adding a vertical flip when none of the ships are turned upside-down will probably make the model less generalizable to test data.\n"
      ],
      "metadata": {
        "id": "YaK3Te2eWpuq"
      }
    },
    {
      "cell_type": "code",
      "source": [
        "# use ImageDataGenerator to augment training data\n",
        "from keras.preprocessing.image import ImageDataGenerator\n",
        "batch_size = 8\n",
        "epochs = 50\n",
        "\n",
        "# make sure to keep learning rate low when fine-tuning\n",
        "model.compile(loss='categorical_crossentropy', metrics=['accuracy'],\n",
        "              optimizer=adam(lr=0.0001))\n",
        "\n",
        "datagen = ImageDataGenerator(rotation_range=45, \n",
        "                             horizontal_flip=True, \n",
        "                             width_shift_range=0.5, \n",
        "                             height_shift_range=0.5, \n",
        "                             dtype='float32')\n",
        "\n",
        "datagen.fit(X_train, augment=True, rounds=1, seed=2019)\n",
        "train_generator = datagen.flow(X_train, y_train, \n",
        "                               batch_size=batch_size, \n",
        "                               seed=2019)\n",
        "\n",
        "f1 = printf1(X_train, y_train)\n",
        "cp = ModelCheckpoint('best.hdf5', monitor='val_loss', save_best_only=True)\n",
        "annealer = LearningRateScheduler(lambda x: 1e-4 * 0.95 ** x)\n",
        "\n",
        "history = model.fit_generator(generator=train_generator, \n",
        "                              steps_per_epoch=len(X_train)/batch_size, \n",
        "                              validation_data=[X_test, y_test], \n",
        "                              callbacks=[cp,f1,annealer],\n",
        "                              epochs=epochs)"
      ],
      "metadata": {
        "trusted": true,
        "id": "wDnngHh0Wpuq"
      },
      "execution_count": null,
      "outputs": []
    },
    {
      "cell_type": "code",
      "source": [
        "# printout competition metric - F1 score \n",
        "true = np.argmax(y_test, axis=1)\n",
        "best = load_model('best.hdf5')\n",
        "valid_pred_best = np.argmax(best.predict(X_test), axis=1)\n",
        "best_f1_score = f1_score(true, valid_pred_best, average=\"weighted\")\n",
        "print(f'Best model weighted F1 Score: {best_f1_score:.4f}')\n",
        "\n",
        "valid_pred = np.argmax(model.predict(X_test), axis=1)\n",
        "f1_score = f1_score(true, valid_pred, average=\"weighted\")\n",
        "print(f'weighted F1 Score: {f1_score:.4f}')\n",
        "\n",
        "# visualize training loss\n",
        "fig, ax = plt.subplots(1,1)\n",
        "vy = history.history['val_loss']\n",
        "ty = history.history['loss']\n",
        "ax.set_xlabel('Epoch')\n",
        "x = list(range(1,epochs+1))\n",
        "ax.set_ylabel('Categorical Crossentropy Loss')\n",
        "plt_dynamic(x,vy,ty,ax, title='Training History - Xception')\n",
        "\n",
        "#plot confusion matrix\n",
        "plot_confusion_matrix(true, valid_pred, normalize=True, \n",
        "                      classes=labels, title='Confusion Matrix')"
      ],
      "metadata": {
        "trusted": true,
        "id": "2Wd1uoq8Wpur"
      },
      "execution_count": null,
      "outputs": []
    },
    {
      "cell_type": "markdown",
      "source": [
        "\n",
        "From the confusion matrix here, it seems that our network is mixing up Cargoes and Tankers. There is also a bit of overfitting - even though this does not seem large enough to hurt our predictions. "
      ],
      "metadata": {
        "id": "LTt2kI4iWpus"
      }
    },
    {
      "cell_type": "markdown",
      "source": [
        "# Make Test Predictions"
      ],
      "metadata": {
        "id": "FPjxKM-FWpus"
      }
    },
    {
      "cell_type": "code",
      "source": [
        "test = load('test')\n",
        "sub = pd.read_csv('../input/sample_submission_ns2btKE.csv')\n",
        "\n",
        "# use the better performing model\n",
        "if best_f1_score >= f1_score:\n",
        "    sub['category'] = np.argmax(best.predict(test), axis=1) + 1\n",
        "else:\n",
        "    sub['category'] = np.argmax(model.predict(test), axis=1) + 1 \n",
        "sub.to_csv('submission.csv', index=False)\n",
        "sub.head()"
      ],
      "metadata": {
        "trusted": true,
        "id": "tYYkRkG8Wput"
      },
      "execution_count": null,
      "outputs": []
    },
    {
      "cell_type": "code",
      "source": [
        "sub['category'].map(ship).value_counts(normalize=True)"
      ],
      "metadata": {
        "trusted": true,
        "id": "MkSVkT0iWpuu"
      },
      "execution_count": null,
      "outputs": []
    }
  ]
}
